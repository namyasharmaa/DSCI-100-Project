{
 "cells": [
  {
   "cell_type": "markdown",
   "metadata": {},
   "source": [
    "### Project title:"
   ]
  },
  {
   "cell_type": "markdown",
   "metadata": {},
   "source": [
    "Predicting Knowledge Levels \n",
    "\n",
    "Group 40 Members: Sam Kao, Namya Sharma, Lucy Duan, Jason Zhou"
   ]
  },
  {
   "cell_type": "markdown",
   "metadata": {},
   "source": [
    "### Introduction:"
   ]
  },
  {
   "cell_type": "markdown",
   "metadata": {},
   "source": [
    "A person’s level of knowledge cannot be evaluated unilaterally, and different people with different knowledge levels could be better assigned an appropriate job in a firm or in a research group, so that they will do their own work efficiently. The User Knowledge datasat covers six variables: STG (The degree of study time for goal object materials), SCG (The degree of repetition number of user for goal object materials), STR (The degree of study time of user for related objects with goal object), LPR (The exam performance of user for related objects with goal object), PEG (The exam performance of user for goal objects), and UNS (an individual’s knowledge level). There are a total of 403 observations and the first five variables are all numerical doubles, whereas UNS is a categorical variable. \n",
    "As the time passes, the global job market becomes more competitive than before. Thousands of people with differing strengths compete for the same job; therefore, we need a model to select applicants most efficiently. Such a model can alleviate stress from a corporation's recruitment team.\n",
    "\n",
    "Question: What will the knowledge level (UNS) of a user be (very low, low, middle or high) based on their length of study of the goal objects (STG), and their exam performance of goal object (PEG)?"
   ]
  },
  {
   "cell_type": "markdown",
   "metadata": {},
   "source": [
    "### Preliminary exploratory data analysis:"
   ]
  },
  {
   "cell_type": "code",
   "execution_count": null,
   "metadata": {},
   "outputs": [],
   "source": [
    "library(tidyverse)\n",
    "library(readxl)\n",
    "library(dplyr)\n",
    "library(gridExtra)\n",
    "options(repr.matrix.max.rows = 6)"
   ]
  },
  {
   "cell_type": "code",
   "execution_count": null,
   "metadata": {},
   "outputs": [],
   "source": [
    "# reading the data\n",
    "url <- \"https://archive.ics.uci.edu/ml/machine-learning-databases/00257/Data_User_Modeling_Dataset_Hamdi%20Tolga%20KAHRAMAN.xls\"\n",
    "download.file(url, \"data.xls\")\n",
    "training_data <- read_excel(\"data.xls\", sheet = 2) # sheet 2 => training data\n",
    "\n",
    "# select only the columns we need and making our class as a factor\n",
    "training_data <- training_data %>%\n",
    "    select(1:6) %>%\n",
    "    mutate(UNS = as_factor(UNS))\n",
    "\n",
    "training_data"
   ]
  },
  {
   "cell_type": "code",
   "execution_count": null,
   "metadata": {},
   "outputs": [],
   "source": [
    "# summarize the training data, counting how many occurences of each class \n",
    "num_of_class <- training_data %>%\n",
    "    mutate(UNS = factor(UNS, levels = c(\"High\", \"Middle\", \"Low\", \"very_low\"))) %>%\n",
    "    count(UNS)\n",
    "\n",
    "num_of_class"
   ]
  },
  {
   "cell_type": "code",
   "execution_count": null,
   "metadata": {},
   "outputs": [],
   "source": [
    "#the means of the predictor variables you plan to use in your analysis\n",
    "predictors_mean <- training_data %>%\n",
    "                  summarize (mean_STG = mean(STG, na.rm = TRUE),\n",
    "                             mean_PEG = mean(PEG, na.rm = TRUE))\n",
    "predictors_mean"
   ]
  },
  {
   "cell_type": "code",
   "execution_count": null,
   "metadata": {},
   "outputs": [],
   "source": [
    "#how many rows have missing data\n",
    "missing_data <- training_data %>% \n",
    "        filter(is.na(STG), is.na(PEG), is.na(SCG), is.na(STR), is.na(LPR), is.na(UNS))\n",
    "missing_data_count <- nrow(missing_data)\n",
    "missing_data_count"
   ]
  },
  {
   "cell_type": "code",
   "execution_count": null,
   "metadata": {},
   "outputs": [],
   "source": [
    "# plot STG vs PEG and coloring the class of UNS\n",
    "# STG => The degree of study time for goal object materails\n",
    "# PEG => The exam performance of user for goal objects\n",
    "options(repr.plot.width = 10, repr.plot.height = 7) \n",
    "plot <- training_data %>%\n",
    "    mutate(UNS = factor(UNS, levels = c(\"High\", \"Middle\", \"Low\", \"very_low\"))) %>%\n",
    "    ggplot(aes(x = STG, y = PEG, color = UNS)) +\n",
    "    geom_point() +\n",
    "    labs(x = \"Degree of Study Time\", y=\"Exam performance\", color= \"The knowledge level of user\")+\n",
    "    ggtitle('STG vs PEG')+\n",
    "    theme(text = element_text(size=20))\n",
    "\n",
    "plot"
   ]
  },
  {
   "cell_type": "code",
   "execution_count": null,
   "metadata": {},
   "outputs": [],
   "source": [
    "#compare the distributions of each of the predictor variables you plan to use in your analysis\n",
    "#the distribution of exam performace of goal objects\n",
    "\n",
    "options(repr.plot.width = 10, repr.plot.height = 7) \n",
    "distr_PEG <- training_data %>%\n",
    "    mutate(UNS = factor(UNS, levels = c(\"High\", \"Middle\", \"Low\", \"very_low\"))) %>% \n",
    "    ggplot(aes(x = PEG, fill = UNS)) +\n",
    "    geom_histogram(binwidth = .01)+\n",
    "    labs(x = \"Exam performance of goal objects\", fill = \"The knowledge level of user\")+\n",
    "    ggtitle(\"The distribution of exam performace of goal objects\")+\n",
    "    theme(text = element_text(size=20))+\n",
    "    facet_grid(rows = vars(UNS))\n",
    "\n",
    "distr_PEG"
   ]
  },
  {
   "cell_type": "code",
   "execution_count": null,
   "metadata": {},
   "outputs": [],
   "source": [
    "#compare the distributions of each of the predictor variables you plan to use in your analysis\n",
    "#The distribution of the degree of study time for goal object materails (STG)\n",
    "options(repr.plot.width = 10, repr.plot.height = 7) \n",
    "distr_STG <- training_data %>%\n",
    "    mutate(UNS = factor(UNS, levels = c(\"High\", \"Middle\", \"Low\", \"very_low\"))) %>%\n",
    "    ggplot(aes(x = STG, fill = UNS)) +\n",
    "    geom_histogram(binwidth = .01)+\n",
    "    labs(x = \"Study time for goal object materails\", fill = \"The knowledge level of user\")+\n",
    "    ggtitle(\"The distribution of study time for goal object materails\")+\n",
    "    theme(text = element_text(size= 20))+\n",
    "    facet_grid(rows = vars(UNS))\n",
    "\n",
    "distr_STG\n"
   ]
  },
  {
   "cell_type": "code",
   "execution_count": null,
   "metadata": {},
   "outputs": [],
   "source": [
    "#compare the distributions of each of the predictor variables you plan to use in your analysis\n",
    "library(cowplot)\n",
    "options(repr.plot.width = 19, repr.plot.height = 8)\n",
    "plot_grid(distr_PEG, distr_STG)\n",
    "options(repr.plot.width = 19, repr.plot.height = 8)"
   ]
  },
  {
   "cell_type": "markdown",
   "metadata": {},
   "source": [
    "### Methods:"
   ]
  },
  {
   "cell_type": "markdown",
   "metadata": {},
   "source": [
    "We will use STG (The degree of study time for goal object materials) and PEG (The exam performance of users for goal objects) to find the relationships with UNS (an individual’s knowledge level). We decided to use these variables since we believe time spent studying for goal object and its respective exam performance are the best predictors for an individual’s knowledge level as they offer less random outliers, and are directly correlated to knowledge levels. We will select these three columns and plot STG vs PEG with the four UNS classes plotting as different colours. A scatter plot with four colours will allow us to visualize the relationship between the three variables better. We will then apply a k-nearest neighbour model to our training set and use STG and PEG to predict an individual’s UNS. We will also tune our model to select the best ‘k’ value for our model by performing cross validation before applying our fitted model to our testing dataset, from which we can determine the accuracy of it.\n"
   ]
  },
  {
   "cell_type": "markdown",
   "metadata": {},
   "source": [
    "### Expected outcomes and significance:"
   ]
  },
  {
   "cell_type": "markdown",
   "metadata": {},
   "source": [
    "We expect STG and PEG to be the two best predictors to classify the UNS of a new individual, and thus produce a model with relatively good accuracy in relation to the context and application of our model. After preliminary analysis, we expect PEG to play a larger role than STG in UNS prediction since graphically, those with higher PEG values tend to be classified as “high” in terms of UNS. These findings can allow us to  predict an individual’s knowledge level based on degree of study time and exam performance in the real world.  A prediction of the reversal could also be made. In the future, it would be interesting to also investigate the impact of other variables such as STR and LPR on classifying knowledge level."
   ]
  },
  {
   "cell_type": "code",
   "execution_count": null,
   "metadata": {},
   "outputs": [],
   "source": []
  }
 ],
 "metadata": {
  "kernelspec": {
   "display_name": "R",
   "language": "R",
   "name": "ir"
  },
  "language_info": {
   "codemirror_mode": "r",
   "file_extension": ".r",
   "mimetype": "text/x-r-source",
   "name": "R",
   "pygments_lexer": "r",
   "version": "4.0.0"
  }
 },
 "nbformat": 4,
 "nbformat_minor": 4
}
